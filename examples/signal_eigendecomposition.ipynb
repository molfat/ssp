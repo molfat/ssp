{
 "cells": [
  {
   "cell_type": "code",
   "execution_count": 1,
   "metadata": {},
   "outputs": [],
   "source": [
    "import os, sys\n",
    "dir = os.path.abspath('../ssp')\n",
    "dir = os.path.dirname(dir)\n",
    "sys.path.append(dir)\n",
    "\n",
    "import numpy as np\n",
    "import matplotlib.pyplot as plt\n",
    "\n",
    "from ssp import spectrum"
   ]
  },
  {
   "cell_type": "markdown",
   "metadata": {},
   "source": [
    "Let's start with a single complex exponentional mixed in white noise:\n",
    "\n",
    "$$\n",
    "\n",
    "x(n) = \\sum_{i = 1}^{p} A_i e^{j n \\omega_i} + w(n)\n",
    "\n",
    "$$\n",
    "\n",
    "We assume the amplitude is itself complex with a positive amplitude and a positive frequency between $ (0, \\phi) $.\n",
    "$$\n",
    "\n",
    "A_i = \\vert A_i \\vert e^{j \\phi_i} \n",
    "\n",
    "$$\n",
    "Assuming the process runs for the rest of time, its autocorrelation sequence of such a process is:\n",
    "\n",
    "$$\n",
    "\n",
    "r_x(k) = \\sum_{i = 1}^{p} \\vert A_i \\vert ^2 e^{j k \\omega_i} + \\sigma_w^2 \\delta(k)\n",
    "\n",
    "$$\n",
    "\n",
    "Note that A_i is known from the complex exponential representation and $ \\sigma_w^2 $ is assumed given. Hence, there are two different additive processes are at work here, one described as a sum of positive exponentials relating to the signal of interest, and a processes which is just a constant for all time. Hence, the unknown random process model is a noisy signal expressed as a some of known and real exponentials plus a constant.\n",
    "\n",
    "$$\n",
    "R_x = R_s + R_n\n",
    "$$\n",
    "\n",
    "The noise matrix is a diagonal matrix.\n",
    "\n",
    "$$\n",
    "R_n = \\sigma_w^2 I\n",
    "$$\n",
    "\n",
    "$$\n",
    "R_s = \\vert A_1 \\vert ^2\n",
    "\n",
    "\\begin{pmatrix}\n",
    "   1                      & e^{-j \\omega_1}      & e^{-j 2 \\omega_1} & ... & e^{-j (M - 1) \\omega_1} \\\\\n",
    "   e^{j \\omega_1}       & 1                      & e^{j \\omega_1}    & ... & e^{-j (M - 2) \\omega_1} \\\\\n",
    "   e^{j 2 \\omega_1}       & e^{j \\omega_1}       & 1                 & ... & e^{-j (M - 3) \\omega_1} \\\\\n",
    "   \\vdots & \\vdots & \\vdots &  \\vdots & \\vdots \\\\\n",
    "   e^{j (M - 1) \\omega_1} & e^{j (M - 2) \\omega_1} & e^{-j (M - 3) \\omega_1} & ... & 1 \\\\\n",
    "\\end{pmatrix}\n",
    "\n",
    "$$\n",
    "\n",
    "$$\n",
    "R_x = \\sum_{i = 1}^{p} \\vert A_i \\vert ^2 e_i e_i^H + \\sigma_w^2 I\n",
    "$$\n",
    "\n",
    "Let $ e_i $ be a column vector:\n",
    "\n",
    "$$\n",
    "e_i = [1, e^{j \\omega_i}, e^{j 2 \\omega_i}, ..., e^{j (M-1) \\omega_i}] ^T\n",
    "$$\n",
    "\n",
    "If we layout a new matrix with $ p $ many $ e_i $ column vectors the result is a $ M $ x $ p $ matrix which we represent as:\n",
    "\n",
    "$$\n",
    "E = [e_1, e_2, ..., e_p]\n",
    "$$\n",
    "\n",
    "This is a rank p matrix which spans a p-dimensional euclidian space, fully defined by the orthogonal basis vectors $ e_i $."
   ]
  },
  {
   "cell_type": "markdown",
   "metadata": {},
   "source": [
    "## Principle Components\n",
    "\n",
    "The complete spectral representation of a real-valued continuous-state discrete-time bandlimited processe in white noise is an exact 2nd order (moment) statistical representation of of the noisy signal.\n",
    "\n",
    "At the heart of this connection, sits the infamous Spectral Theorem:\n",
    "\n",
    "$$\n",
    "R_x = V_{ss} V_s^H + V_{nn} V_n^H\n",
    "$$\n",
    "\n",
    "$$\n",
    "V_s = [\\text v_1, \\text v_2, ..., \\text v_p]^T\n",
    "$$\n",
    "\n",
    "$$\n",
    "V_n = [\\text v_{p+1}, \\text v_{p+2}, \\text ..., \\text v_M]^T\n",
    "$$\n",
    "\n",
    "$$\n",
    "R_x = \\sum_{i = 1}^{p}(\\lambda_i^s + \\sigma_w^2) \\text v_i \\text v_i^H + \\sum_{i=p+1}^M \\sigma_w^2 \\text v_i \\text v_i^H\n",
    "$$\n",
    "\n",
    "The orthogonality of the signal and error subspaces allows us to differentiate the components.\n",
    "\n",
    "$$\n",
    "e_i^H v_k = 0\n",
    "$$\n",
    "$$\n",
    "i=1, 2, ..., p\n",
    "$$\n",
    "$$\n",
    "k=p + 1, p + 2, ..., M\n",
    "$$\n",
    "\n",
    "Hence, at the exact signal frequencies, the following function blows up to infinity and may be used for frequency estimation:\n",
    "\n",
    "$$\n",
    "\\hat{P}(e^{j\\omega}) = \\frac{1}{\\displaystyle\\sum_{i=p+1}^{M} \\alpha_i \\vert e^H v_i \\vert ^2}\n",
    "$$"
   ]
  },
  {
   "cell_type": "markdown",
   "metadata": {},
   "source": [
    "# Example of four sinusoids\n",
    "\n",
    "$ \\omega_k $ are $ 0.2\\pi, 0.3\\pi, 0.8\\pi, 1.2\\pi $ and the variance of white noise variance is $ \\sigma_w^2 = 0.5 $. Number of samples is $ M = 64 $\n",
    "\n",
    "$$\n",
    "x(n) = \\sum_{k = 1}^{4} e^{j(n \\omega_k + \\phi_k)} + w(n)\n",
    "$$"
   ]
  },
  {
   "cell_type": "code",
   "execution_count": 2,
   "metadata": {},
   "outputs": [],
   "source": [
    "R = 10\n",
    "N = 64\n",
    "nvar = 0.5\n",
    "wk = [0.2, 0.3, 0.8, 1.2]\n",
    "\n",
    "rng1 = np.random.default_rng()\n",
    "signoise = rng1.normal(0, np.sqrt(nvar), (R, N))\n",
    "\n",
    "rng2 = np.random.default_rng()\n",
    "phasek = rng2.uniform(0, 2 * np.pi, (R, N))"
   ]
  },
  {
   "cell_type": "code",
   "execution_count": 21,
   "metadata": {},
   "outputs": [
    {
     "name": "stdout",
     "output_type": "stream",
     "text": [
      "\n"
     ]
    },
    {
     "data": {
      "image/png": "[encoded data removed]",
      "text/plain": [
       "<Figure size 640x480 with 1 Axes>"
      ]
     },
     "metadata": {},
     "output_type": "display_data"
    }
   ],
   "source": [
    "Rx = spectrum.overlay(64, wk, [1, 1, 1, 1], nvar, 10, alg=\"periodogram\")\n",
    "plt.plot(np.abs(Rx[0:511, :10]))\n",
    "#plt.plot(20 * np.log10(np.abs(Rx[0:511, :10])))\n",
    "print()"
   ]
  },
  {
   "cell_type": "markdown",
   "metadata": {},
   "source": [
    "## Simulation\n",
    "\n",
    "For the Pisarenko method, a 5x5 autocorrelation matrix is estimated from the ten simulated 64-sample realizations.\n",
    "\n",
    "The other methods all use the samples as the 64x64 sampled matrix over 10 realizations."
   ]
  },
  {
   "cell_type": "code",
   "execution_count": null,
   "metadata": {},
   "outputs": [],
   "source": []
  }
 ],
 "metadata": {
  "kernelspec": {
   "display_name": ".env.py.312",
   "language": "python",
   "name": "python3"
  },
  "language_info": {
   "codemirror_mode": {
    "name": "ipython",
    "version": 3
   },
   "file_extension": ".py",
   "mimetype": "text/x-python",
   "name": "python",
   "nbconvert_exporter": "python",
   "pygments_lexer": "ipython3",
   "version": "3.12.1"
  }
 },
 "nbformat": 4,
 "nbformat_minor": 2
}
