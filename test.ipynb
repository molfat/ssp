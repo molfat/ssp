{
 "cells": [
  {
   "cell_type": "code",
   "execution_count": 1,
   "metadata": {},
   "outputs": [],
   "source": [
    "from typing import NoReturn\n",
    "import logging\n",
    "\n",
    "import numpy as np\n",
    "from numpy.typing import ArrayLike\n",
    "import matplotlib.pyplot as plt\n",
    "\n",
    "import scipy as sp"
   ]
  },
  {
   "cell_type": "code",
   "execution_count": 2,
   "metadata": {},
   "outputs": [],
   "source": [
    "def convm(x: ArrayLike, p: int) -> np.ndarray:\n",
    "    \"\"\"Construct the convolution matrix of the signal x with p number of parameters.\n",
    "\n",
    "    (N + p - 1) by p non-symmetric Toeplitz matrix\n",
    "    \"\"\"\n",
    "    _x = np.array(x, dtype=complex).ravel()\n",
    "    if p < 1:\n",
    "        raise ValueError(f\"{p=} must be greater or equal to 1.\")\n",
    "\n",
    "    N = len(_x) + 2 * p - 2\n",
    "    # the signal centered over its support\n",
    "    # needed for the signal information-preserving frequency spectrum\n",
    "    xcol = (_x.copy()).reshape(-1, 1)\n",
    "    logging.warning(f'\\n{xcol=}')\n",
    "    xpad = np.concatenate((np.zeros((p - 1, 1)), xcol, np.zeros((p - 1, 1))))\n",
    "    logging.warning(f'{xpad=}\\n')\n",
    "    X = np.empty([len(_x) + p - 1, p], dtype=complex)\n",
    "    for i in range(p):\n",
    "        X[:, i] = xpad[p - i - 1:N - i, 0]\n",
    "    return X"
   ]
  },
  {
   "cell_type": "code",
   "execution_count": 3,
   "metadata": {},
   "outputs": [],
   "source": [
    "def covar(x: ArrayLike, p: int) -> np.ndarray:\n",
    "    \"\"\"Covariance Matrix.\n",
    "\n",
    "    p x p hermitian toeplitz matrix of sample covariances\n",
    "    \"\"\"\n",
    "    _x = np.array(x, dtype=complex)\n",
    "    m = len(_x)\n",
    "    # remove the mean\n",
    "    #_x = _x - np.mean(_x)\n",
    "    conv = convm(x, p + 1)\n",
    "    logging.warning(f'\\n{conv.shape=}')\n",
    "    logging.warning(f'\\n{conv=}')\n",
    "    R = conv.conjugate().transpose() @ conv.copy() / (m - 1)\n",
    "    return R"
   ]
  },
  {
   "cell_type": "code",
   "execution_count": 4,
   "metadata": {},
   "outputs": [],
   "source": [
    "def phd(x, p):\n",
    "    R = covar(x, p)\n",
    "    Rx = sp.linalg.toeplitz(x)\n",
    "    d, v = np.linalg.eigh(Rx)\n",
    "    index = np.argmin(d)\n",
    "    vmin = v[:, index].copy()\n",
    "    sigma = d[index]\n",
    "    logging.warning(f'{v=}')\n",
    "    logging.warning(f'{vmin=}')\n",
    "    logging.warning(f'{sigma=}')\n",
    "    rts = np.roots(vmin)\n",
    "    vsig = np.delete(v, index, 1)\n",
    "    phases = np.angle(rts)\n",
    "    siggie = np.exp(1j * np.arange(p + 1).reshape(-1, 1) * phases)\n",
    "    dtft = vsig.transpose() @ siggie.conjugate()\n",
    "    dtft = np.abs(dtft)**2\n",
    "    dsig = np.delete(d, index) - d[index]\n",
    "    np.linalg.solve(dtft, dsig)"
   ]
  },
  {
   "cell_type": "code",
   "execution_count": 270,
   "metadata": {},
   "outputs": [
    {
     "name": "stdout",
     "output_type": "stream",
     "text": [
      "Rx=array([[ 6.     +0.j     ,  1.92705-4.58522j, -3.42705-3.49541j],\n",
      "       [ 1.92705+4.58522j,  6.     +0.j     ,  1.92705-4.58522j],\n",
      "       [-3.42705+3.49541j,  1.92705+4.58522j,  6.     +0.j     ]])\n",
      "d=array([ 1.00000161,  1.10485869, 15.8951397 ])\n",
      "v=array([[ 0.40974303+0.j        , -0.7070716 +0.j        ,\n",
      "        -0.57633359+0.j        ],\n",
      "       [-0.33145704-0.74455189j, -0.0091694 +0.00392879j,\n",
      "        -0.22439919-0.53415747j],\n",
      "       [-0.2741981 +0.30447455j, -0.48772554+0.51193168j,\n",
      "         0.40342281-0.41159499j]])\n",
      "v=array([[ 0.40974303+0.j        , -0.7070716 +0.j        ,\n",
      "        -0.57633359+0.j        ],\n",
      "       [-0.33145704-0.74455189j, -0.0091694 +0.00392879j,\n",
      "        -0.22439919-0.53415747j],\n",
      "       [-0.2741981 +0.30447455j, -0.48772554+0.51193168j,\n",
      "         0.40342281-0.41159499j]])\n",
      "vmin=array([ 0.40974303+0.j        , -0.33145704-0.74455189j,\n",
      "       -0.2741981 +0.30447455j])\n",
      "sigma=1.000001605433868\n",
      "rts=array([0.49995334+0.86605234j, 0.30898547+0.95106676j])\n",
      "phases=array([1.04725142, 1.25667021])\n"
     ]
    }
   ],
   "source": [
    "p = 2\n",
    "x = np.array([6, 1.92705 + 4.58522j, -3.42705 + 3.49541j], dtype=complex)\n",
    "Rx = sp.linalg.toeplitz(x)\n",
    "#Rx_conv = Rx_conv / np.abs(Rx_conv)\n",
    "# Rx = Rx / np.abs(Rx)\n",
    "d, v = np.linalg.eigh(Rx)\n",
    "print(f'{Rx=}')\n",
    "print(f'{d=}')\n",
    "print(f'{v=}')\n",
    "\n",
    "index = np.argmin(d)\n",
    "vmin = v[:, index].copy()\n",
    "sigma = d[index]\n",
    "rts = np.roots(vmin)\n",
    "vsig = np.delete(v, index, 1)\n",
    "phases = np.angle(rts)\n",
    "print(f'{v=}')\n",
    "print(f'{vmin=}')\n",
    "print(f'{sigma=}')\n",
    "print(f'{rts=}')\n",
    "print(f'{phases=}')"
   ]
  },
  {
   "cell_type": "code",
   "execution_count": 301,
   "metadata": {},
   "outputs": [
    {
     "name": "stderr",
     "output_type": "stream",
     "text": [
      "WARNING:root:\n",
      "xcol=array([[ 6.     +0.j     ],\n",
      "       [ 1.92705+4.58522j],\n",
      "       [-3.42705+3.49541j]])\n",
      "WARNING:root:xpad=array([[ 0.     +0.j     ],\n",
      "       [ 0.     +0.j     ],\n",
      "       [ 6.     +0.j     ],\n",
      "       [ 1.92705+4.58522j],\n",
      "       [-3.42705+3.49541j],\n",
      "       [ 0.     +0.j     ],\n",
      "       [ 0.     +0.j     ]])\n",
      "\n"
     ]
    },
    {
     "name": "stdout",
     "output_type": "stream",
     "text": [
      "_x=array([[ 6.     +0.j     ,  0.     +0.j     ,  0.     +0.j     ],\n",
      "       [ 1.92705+4.58522j,  6.     +0.j     ,  0.     +0.j     ],\n",
      "       [-3.42705+3.49541j,  1.92705+4.58522j,  6.     +0.j     ],\n",
      "       [ 0.     +0.j     , -3.42705+3.49541j,  1.92705+4.58522j],\n",
      "       [ 0.     +0.j     ,  0.     +0.j     , -3.42705+3.49541j]])\n",
      "[[ 4.50498695e-01+0.00000000e+00j -7.07106781e-01+0.00000000e+00j\n",
      "  -5.45023785e-01+0.00000000e+00j]\n",
      " [-2.98521271e-01-7.10624304e-01j -2.27953641e-05+9.57514534e-06j\n",
      "  -2.46718268e-01-5.87391049e-01j]\n",
      " [-3.15349585e-01+3.21719931e-01j -4.95005738e-01+5.04944868e-01j\n",
      "   3.81556444e-01-3.89185824e-01j]]\n",
      "[10.67806844 27.66469226 88.70772968]\n",
      "Rx_conv=array([[ 42.35016346 +0.j        ,  10.49271357-24.98046402j,\n",
      "        -10.28115   -10.48623j   ],\n",
      "       [ 10.49271357+24.98046402j,  42.35016346 +0.j        ,\n",
      "         10.49271357-24.98046402j],\n",
      "       [-10.28115   +10.48623j   ,  10.49271357+24.98046402j,\n",
      "         42.35016346 +0.j        ]])\n"
     ]
    }
   ],
   "source": [
    "m = p + 1\n",
    "_x = convm(x, 3)\n",
    "print(f'{_x=}')\n",
    "Rx_conv = _x.transpose().conjugate() @ _x / (m - 1)\n",
    "md, mv = np.linalg.eigh(Rx_conv) \n",
    "print(mv)\n",
    "print(md)\n",
    "print(f'{Rx_conv=}')"
   ]
  },
  {
   "cell_type": "code",
   "execution_count": 311,
   "metadata": {},
   "outputs": [
    {
     "name": "stdout",
     "output_type": "stream",
     "text": [
      "[ 0.4504987 +0.j         -0.29852127-0.7106243j  -0.31534958+0.32171993j]\n",
      "(1+0j)\n",
      "[-1.56960894e+00+0.00000000e+00j -2.95744093e-05+1.24226692e-05j\n",
      " -1.09879505e+00+1.12085756e+00j]\n",
      "[-1.20982323+0.j         -0.32008908-0.76207352j  0.84696459-0.8639j    ]\n",
      "v=array([[ 0.40974303+0.j        , -0.7070716 +0.j        ,\n",
      "        -0.57633359+0.j        ],\n",
      "       [-0.33145704-0.74455189j, -0.0091694 +0.00392879j,\n",
      "        -0.22439919-0.53415747j],\n",
      "       [-0.2741981 +0.30447455j, -0.48772554+0.51193168j,\n",
      "         0.40342281-0.41159499j]])\n",
      "vmin=array([ 0.4504987 +0.j        , -0.29852127-0.7106243j ,\n",
      "       -0.31534958+0.32171993j])\n",
      "sigma=10.678068441422983\n",
      "rts=array([-0.14610692+0.9892688j,  0.80875317+0.5881482j])\n",
      "phases=array([1.71742813, 0.62876724])\n"
     ]
    }
   ],
   "source": [
    "v1 = mv[:,0]\n",
    "print(v1)\n",
    "v1n = np.abs(v1)\n",
    "print(v1.conjugate() @ v1)\n",
    "newv1 = mv[:,1] / v1n\n",
    "newv2 = mv[:,2] / v1n\n",
    "print(newv1)\n",
    "print(newv2)"
   ]
  },
  {
   "cell_type": "code",
   "execution_count": 312,
   "metadata": {},
   "outputs": [
    {
     "data": {
      "text/plain": [
       "array([ 14443.19047548, -14438.19047709])"
      ]
     },
     "execution_count": 312,
     "metadata": {},
     "output_type": "execute_result"
    }
   ],
   "source": [
    "siggie = np.exp(1j * np.arange(p + 1).reshape(-1, 1) * phases)\n",
    "dtft = vsig.transpose() @ siggie.conjugate()\n",
    "d2 = np.fft.fft(vsig[:,-1], 1024, norm=\"ortho\")\n",
    "dtft = np.abs(dtft)**2\n",
    "dsig = np.delete(d, index) - d[index]\n",
    "np.linalg.solve(dtft, dsig)"
   ]
  },
  {
   "cell_type": "code",
   "execution_count": 313,
   "metadata": {},
   "outputs": [
    {
     "data": {
      "text/plain": [
       "[<matplotlib.lines.Line2D at 0x2f46ae5f050>]"
      ]
     },
     "execution_count": 313,
     "metadata": {},
     "output_type": "execute_result"
    },
    {
     "data": {
      "image/png": "[encoded data removed]",
      "text/plain": [
       "<Figure size 640x480 with 1 Axes>"
      ]
     },
     "metadata": {},
     "output_type": "display_data"
    }
   ],
   "source": [
    "plt.plot(2 * np.log2(np.abs(d2))**2)"
   ]
  }
 ],
 "metadata": {
  "kernelspec": {
   "display_name": ".env.py.312",
   "language": "python",
   "name": "python3"
  },
  "language_info": {
   "codemirror_mode": {
    "name": "ipython",
    "version": 3
   },
   "file_extension": ".py",
   "mimetype": "text/x-python",
   "name": "python",
   "nbconvert_exporter": "python",
   "pygments_lexer": "ipython3",
   "version": "3.12.1"
  }
 },
 "nbformat": 4,
 "nbformat_minor": 2
}
