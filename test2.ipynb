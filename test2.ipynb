{
 "cells": [
  {
   "cell_type": "code",
   "execution_count": 1,
   "metadata": {},
   "outputs": [],
   "source": [
    "from typing import NoReturn\n",
    "import logging\n",
    "\n",
    "import numpy as np\n",
    "from numpy.typing import ArrayLike\n",
    "import matplotlib.pyplot as plt\n",
    "\n",
    "import scipy as sp"
   ]
  },
  {
   "cell_type": "code",
   "execution_count": 240,
   "metadata": {},
   "outputs": [],
   "source": [
    "def convm(x: ArrayLike, p: int) -> np.ndarray:\n",
    "    \"\"\"Construct the convolution matrix of the signal x with p number of parameters.\n",
    "\n",
    "    (N + p - 1) by p non-symmetric Toeplitz matrix\n",
    "    \"\"\"\n",
    "    _x = np.array(x, dtype=complex).ravel()\n",
    "    if p < 1:\n",
    "        raise ValueError(f\"{p=} must be greater or equal to 1.\")\n",
    "\n",
    "    N = len(_x) + 2 * p - 2\n",
    "    # the signal centered over its support\n",
    "    # needed for the signal information-preserving frequency spectrum\n",
    "    xcol = (_x.copy()).reshape(-1, 1)\n",
    "    logging.warning(f'\\n{xcol=}')\n",
    "    xpad = np.concatenate((np.zeros((p - 1, 1)), xcol, np.zeros((p - 1, 1))))\n",
    "    logging.warning(f'{xpad=}\\n')\n",
    "    X = np.empty([len(_x) + p - 1, p], dtype=complex)\n",
    "    for i in range(p):\n",
    "        X[:, i] = xpad[p - i - 1:N - i, 0]\n",
    "    return X"
   ]
  },
  {
   "cell_type": "code",
   "execution_count": 241,
   "metadata": {},
   "outputs": [],
   "source": [
    "def covar(x: ArrayLike, p: int) -> np.ndarray:\n",
    "    \"\"\"Covariance Matrix.\n",
    "\n",
    "    p x p hermitian toeplitz matrix of sample covariances\n",
    "    \"\"\"\n",
    "    _x = np.array(x, dtype=complex)\n",
    "    m = len(_x)\n",
    "    # remove the mean\n",
    "    _x = _x - np.mean(_x)\n",
    "    conv = convm(x, p + 1)\n",
    "    logging.warning(f'\\n{conv.shape=}')\n",
    "    logging.warning(f'\\n{conv=}')\n",
    "    R = conv.conjugate().transpose() @ conv / (m - 1)\n",
    "    return R"
   ]
  },
  {
   "cell_type": "code",
   "execution_count": 272,
   "metadata": {},
   "outputs": [],
   "source": [
    "def phd(x, p):\n",
    "    Rx = sp.linalg.toeplitz(x)\n",
    "    Rx = covar(x, p)\n",
    "    d, v = np.linalg.eigh(Rx)\n",
    "    index = np.argmin(d)\n",
    "    vmin = v[:, index].copy()\n",
    "    sigma = d[index]\n",
    "    logging.warning(f'{v=}')\n",
    "    logging.warning(f'{vmin=}')\n",
    "    logging.warning(f'{sigma=}')\n",
    "    rts = np.roots(vmin)\n",
    "    vsig = np.delete(v, index, 1)\n",
    "    phases = np.angle(rts)\n",
    "    siggie = np.exp(1j * np.arange(p + 1).reshape(-1, 1) * phases)\n",
    "    dtft = vsig.transpose() @ siggie.conjugate()\n",
    "    dtft = np.abs(dtft)**2\n",
    "    dsig = np.delete(d, index) - d[index]\n",
    "    powers = np.linalg.solve(dtft, dsig)\n",
    "    return sigma, vmin, powers, phases, vsig, d"
   ]
  },
  {
   "cell_type": "code",
   "execution_count": 273,
   "metadata": {},
   "outputs": [
    {
     "name": "stderr",
     "output_type": "stream",
     "text": [
      "WARNING:root:\n",
      "xcol=array([[ 6.     +0.j     ],\n",
      "       [ 1.92705+4.58522j],\n",
      "       [-3.42705+3.49541j]])\n",
      "WARNING:root:xpad=array([[ 0.     +0.j     ],\n",
      "       [ 0.     +0.j     ],\n",
      "       [ 6.     +0.j     ],\n",
      "       [ 1.92705+4.58522j],\n",
      "       [-3.42705+3.49541j],\n",
      "       [ 0.     +0.j     ],\n",
      "       [ 0.     +0.j     ]])\n",
      "\n",
      "WARNING:root:\n",
      "conv.shape=(5, 3)\n",
      "WARNING:root:\n",
      "conv=array([[ 6.     +0.j     ,  0.     +0.j     ,  0.     +0.j     ],\n",
      "       [ 1.92705+4.58522j,  6.     +0.j     ,  0.     +0.j     ],\n",
      "       [-3.42705+3.49541j,  1.92705+4.58522j,  6.     +0.j     ],\n",
      "       [ 0.     +0.j     , -3.42705+3.49541j,  1.92705+4.58522j],\n",
      "       [ 0.     +0.j     ,  0.     +0.j     , -3.42705+3.49541j]])\n",
      "WARNING:root:v=array([[ 4.50498695e-01+0.00000000e+00j, -7.07106781e-01+0.00000000e+00j,\n",
      "        -5.45023785e-01+0.00000000e+00j],\n",
      "       [-2.98521271e-01-7.10624304e-01j, -2.27953641e-05+9.57514534e-06j,\n",
      "        -2.46718268e-01-5.87391049e-01j],\n",
      "       [-3.15349585e-01+3.21719931e-01j, -4.95005738e-01+5.04944868e-01j,\n",
      "         3.81556444e-01-3.89185824e-01j]])\n",
      "WARNING:root:vmin=array([ 0.4504987 +0.j        , -0.29852127-0.7106243j ,\n",
      "       -0.31534958+0.32171993j])\n",
      "WARNING:root:sigma=10.678068441422983\n"
     ]
    },
    {
     "name": "stdout",
     "output_type": "stream",
     "text": [
      "sigma=10.678068441422983\n",
      "vmin=array([ 0.4504987 +0.j        , -0.29852127-0.7106243j ,\n",
      "       -0.31534958+0.32171993j])\n",
      "powers=array([63.3483118 , 63.34006828])\n",
      "phases=array([1.71742813, 0.62876724])\n",
      "vsigs=array([[-7.07106781e-01+0.00000000e+00j, -5.45023785e-01+0.00000000e+00j],\n",
      "       [-2.27953641e-05+9.57514534e-06j, -2.46718268e-01-5.87391049e-01j],\n",
      "       [-4.95005738e-01+5.04944868e-01j,  3.81556444e-01-3.89185824e-01j]])\n",
      "dsig=array([10.67806844, 27.66469226, 88.70772968])\n"
     ]
    }
   ],
   "source": [
    "p = 2\n",
    "x = np.array([6, 1.92705 + 4.58522j, -3.42705 + 3.49541j], dtype=complex)\n",
    "sigma, vmin, powers, phases, vsigs, dsig = phd(x, p)\n",
    "print(f'{sigma=}')\n",
    "print(f'{vmin=}')\n",
    "print(f'{powers=}')\n",
    "print(f'{phases=}')\n",
    "print(f'{vsigs=}')\n",
    "print(f'{dsig=}')"
   ]
  }
 ],
 "metadata": {
  "kernelspec": {
   "display_name": ".env.py.312",
   "language": "python",
   "name": "python3"
  },
  "language_info": {
   "codemirror_mode": {
    "name": "ipython",
    "version": 3
   },
   "file_extension": ".py",
   "mimetype": "text/x-python",
   "name": "python",
   "nbconvert_exporter": "python",
   "pygments_lexer": "ipython3",
   "version": "3.12.1"
  }
 },
 "nbformat": 4,
 "nbformat_minor": 2
}
