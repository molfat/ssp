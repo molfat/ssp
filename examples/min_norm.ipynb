{
 "cells": [
  {
   "cell_type": "code",
   "execution_count": 1,
   "metadata": {},
   "outputs": [],
   "source": [
    "from typing import NoReturn\n",
    "import logging\n",
    "\n",
    "import numpy as np\n",
    "from numpy.typing import ArrayLike\n",
    "import matplotlib.pyplot as plt\n",
    "\n",
    "import scipy as sp\n",
    "\n",
    "logging.basicConfig(level=\"DEBUG\")\n",
    "logger = logging.getLogger()"
   ]
  },
  {
   "cell_type": "code",
   "execution_count": 2,
   "metadata": {},
   "outputs": [],
   "source": [
    "def convm(x: ArrayLike, p: int) -> np.ndarray:\n",
    "    \"\"\"Construct the convolution matrix of the signal x with p number of parameters.\n",
    "\n",
    "    (N + p - 1) by p non-symmetric Toeplitz matrix\n",
    "    \"\"\"\n",
    "    _x = np.array(x, dtype=complex).ravel()\n",
    "    if p < 1:\n",
    "        raise ValueError(f\"{p=} must be greater or equal to 1.\")\n",
    "\n",
    "    N = len(_x) + 2 * p - 2\n",
    "    # the signal centered over its support\n",
    "    # needed for the signal information-preserving frequency spectrum\n",
    "    xcol = (_x.copy()).reshape(-1, 1)\n",
    "    logging.warning(f'\\n{xcol=}')\n",
    "    xpad = np.concatenate((np.zeros((p - 1, 1)), xcol, np.zeros((p - 1, 1))))\n",
    "    logging.warning(f'{xpad=}\\n')\n",
    "    X = np.empty([len(_x) + p - 1, p], dtype=complex)\n",
    "    for i in range(p):\n",
    "        X[:, i] = xpad[p - i - 1:N - i, 0]\n",
    "    return X"
   ]
  },
  {
   "cell_type": "code",
   "execution_count": 3,
   "metadata": {},
   "outputs": [],
   "source": [
    "def covar(x: ArrayLike, p: int) -> np.ndarray:\n",
    "    \"\"\"Covariance Matrix.\n",
    "\n",
    "    p x p hermitian toeplitz matrix of sample covariances\n",
    "    \"\"\"\n",
    "    _x = np.array(x, dtype=complex)\n",
    "    m = len(_x)\n",
    "    # remove the mean\n",
    "    _x = _x - np.mean(_x)\n",
    "    conv = convm(x, p + 1)\n",
    "    logging.warning(f'\\n{conv.shape=}')\n",
    "    logging.warning(f'\\n{conv=}')\n",
    "    R = conv.conjugate().transpose() @ conv / (m - 1)\n",
    "    return R"
   ]
  },
  {
   "cell_type": "code",
   "execution_count": 4,
   "metadata": {},
   "outputs": [],
   "source": [
    "def phd(x, p):\n",
    "    Rx = sp.linalg.toeplitz(x)\n",
    "    Rx = covar(x, p)\n",
    "    d, v = np.linalg.eigh(Rx)\n",
    "    index = np.argmin(d)\n",
    "    vmin = v[:, index].copy()\n",
    "    sigma = d[index]\n",
    "    logging.warning(f'{v=}')\n",
    "    logging.warning(f'{vmin=}')\n",
    "    logging.warning(f'{sigma=}')\n",
    "    rts = np.roots(vmin)\n",
    "    vsig = np.delete(v, index, 1)\n",
    "    phases = np.angle(rts)\n",
    "    siggie = np.exp(1j * np.arange(p + 1).reshape(-1, 1) * phases)\n",
    "    dtft = vsig.transpose() @ siggie.conjugate()\n",
    "    dtft = np.abs(dtft)**2\n",
    "    dsig = np.delete(d, index) - d[index]\n",
    "    powers = np.linalg.solve(dtft, dsig)\n",
    "    return sigma, vmin, powers, phases, vsig, d"
   ]
  },
  {
   "cell_type": "code",
   "execution_count": 5,
   "metadata": {},
   "outputs": [],
   "source": [
    "def music(x, p, M):\n",
    "    _x = np.array(x).ravel().reshape(-1, 1)\n",
    "    if p + 1 > M:\n",
    "        raise ValueError(\"Size of signal covariance matrix is inappropriate.\")\n",
    "\n",
    "    R = covar(x, M)\n",
    "    d, v = np.linalg.eig(R)\n",
    "    ddiag = np.diag(d)\n",
    "    i = np.argsort(ddiag)\n",
    "    # y = ddiag[i]\n",
    "    nfft = max(len(_x) + 1, 1024)\n",
    "    Px = np.zeros(nfft, dtype=complex)\n",
    "\n",
    "    for j in range(M - p):\n",
    "        Px = Px + np.abs(np.fft.fft(v[:, i[j]], nfft))\n",
    "\n",
    "    Ax = Px\n",
    "    Px = -20 * np.log10(Px)\n",
    "    logging.debug(f'{Px.shape=}')\n",
    "\n",
    "    return Px, Ax\n"
   ]
  },
  {
   "cell_type": "code",
   "execution_count": 6,
   "metadata": {},
   "outputs": [],
   "source": [
    "def ev(x: ArrayLike, p: int, M: int) -> np.ndarray:\n",
    "    if p + 1 > M:\n",
    "        raise ValueError('Specified signal size is too small')\n",
    "\n",
    "    _x = np.array(x, dtype=complex)\n",
    "    R = covar(_x, M)\n",
    "    d, v = np.linalg.eig(R)\n",
    "    y = np.diag(d)\n",
    "    yi = np.argsort(d)\n",
    "    logger.warning(f'{d=}')\n",
    "    logger.warning(f'{v=}')\n",
    "    logger.warning(f'{y=}')\n",
    "    logger.warning(f'{yi=}')\n",
    "    nfft = max(1024, M + p + 1)\n",
    "    Px = np.zeros((M - p, nfft))\n",
    "    for j in range(M - p):\n",
    "        Px = Px + np.abs(np.fft.fft(v[:, yi[j]], nfft))**2 / np.abs(d[j])\n",
    "\n",
    "    Ax = Px\n",
    "    Px = -10 * np.log10(Px)\n",
    "\n",
    "    logger.warning(f'{Px.shape=}')\n",
    "\n",
    "    return Px, Ax"
   ]
  },
  {
   "cell_type": "code",
   "execution_count": 22,
   "metadata": {},
   "outputs": [],
   "source": [
    "def min_norm(x: ArrayLike, p: int, M: int) -> tuple[np.ndarray, np.ndarray]:\n",
    "    \"\"\"Minimum Norm spectrum estimator: noise subspace method, parametric.\n",
    "\n",
    "    Frequency estimator.\n",
    "    Reference Page 466, Figure 8.35\n",
    "    \"\"\"\n",
    "    _x = np.array(x, ndmin=1)\n",
    "    if p + 1 > M:\n",
    "        raise ValueError('Specified signal size is too small')\n",
    "\n",
    "    R = covar(_x, M)\n",
    "    d, v = np.linalg.eig(R)\n",
    "    y = np.sort(d)\n",
    "    i = np.argsort(d)\n",
    "\n",
    "    logger.warning(f'{v=}')\n",
    "    logger.warning(f'{d=}')\n",
    "    logger.warning(f'{i=}')\n",
    "    V = np.empty_like(v)\n",
    "    for j in range(M - p):\n",
    "        V[:, j] = v[:, i[j]]\n",
    "\n",
    "    a = V @ V[0, :].conjugate().transpose()\n",
    "\n",
    "    nfft = max(1024, M + p + 1)\n",
    "    Ax = np.fft.fft(a, nfft)\n",
    "    Px = -20 * np.log10(np.abs(Ax))\n",
    "\n",
    "    return Px, Ax"
   ]
  },
  {
   "cell_type": "code",
   "execution_count": 23,
   "metadata": {},
   "outputs": [
    {
     "name": "stderr",
     "output_type": "stream",
     "text": [
      "WARNING:root:\n",
      "xcol=array([[ 6.     +0.j     ],\n",
      "       [ 1.92705+4.58522j],\n",
      "       [-3.42705+3.49541j]])\n",
      "WARNING:root:xpad=array([[ 0.     +0.j     ],\n",
      "       [ 0.     +0.j     ],\n",
      "       [ 0.     +0.j     ],\n",
      "       [ 0.     +0.j     ],\n",
      "       [ 0.     +0.j     ],\n",
      "       [ 6.     +0.j     ],\n",
      "       [ 1.92705+4.58522j],\n",
      "       [-3.42705+3.49541j],\n",
      "       [ 0.     +0.j     ],\n",
      "       [ 0.     +0.j     ],\n",
      "       [ 0.     +0.j     ],\n",
      "       [ 0.     +0.j     ],\n",
      "       [ 0.     +0.j     ]])\n",
      "\n",
      "WARNING:root:\n",
      "conv.shape=(8, 6)\n",
      "WARNING:root:\n",
      "conv=array([[ 6.     +0.j     ,  0.     +0.j     ,  0.     +0.j     ,\n",
      "         0.     +0.j     ,  0.     +0.j     ,  0.     +0.j     ],\n",
      "       [ 1.92705+4.58522j,  6.     +0.j     ,  0.     +0.j     ,\n",
      "         0.     +0.j     ,  0.     +0.j     ,  0.     +0.j     ],\n",
      "       [-3.42705+3.49541j,  1.92705+4.58522j,  6.     +0.j     ,\n",
      "         0.     +0.j     ,  0.     +0.j     ,  0.     +0.j     ],\n",
      "       [ 0.     +0.j     , -3.42705+3.49541j,  1.92705+4.58522j,\n",
      "         6.     +0.j     ,  0.     +0.j     ,  0.     +0.j     ],\n",
      "       [ 0.     +0.j     ,  0.     +0.j     , -3.42705+3.49541j,\n",
      "         1.92705+4.58522j,  6.     +0.j     ,  0.     +0.j     ],\n",
      "       [ 0.     +0.j     ,  0.     +0.j     ,  0.     +0.j     ,\n",
      "        -3.42705+3.49541j,  1.92705+4.58522j,  6.     +0.j     ],\n",
      "       [ 0.     +0.j     ,  0.     +0.j     ,  0.     +0.j     ,\n",
      "         0.     +0.j     , -3.42705+3.49541j,  1.92705+4.58522j],\n",
      "       [ 0.     +0.j     ,  0.     +0.j     ,  0.     +0.j     ,\n",
      "         0.     +0.j     ,  0.     +0.j     , -3.42705+3.49541j]])\n",
      "WARNING:root:v=array([[-0.25098327+0.09962369j,  0.48051248+0.j        ,\n",
      "         0.58189212+0.j        , -0.00886504+0.44751939j,\n",
      "        -0.11526772+0.2742215j , -0.24373549+0.09668807j],\n",
      "       [-0.28905781-0.2948332j ,  0.18294704+0.4355586j ,\n",
      "         0.03779264+0.0899539j ,  0.48817717-0.19377711j,\n",
      "         0.5656845 +0.j        , -0.02172667-0.02192146j],\n",
      "       [ 0.19616384-0.46703451j, -0.15002876+0.15303014j,\n",
      "         0.27282838-0.27829166j, -0.10796501-0.11011289j,\n",
      "        -0.11731988-0.27884228j, -0.25386342+0.60485138j],\n",
      "       [ 0.50655847+0.j        ,  0.19918755+0.07906435j,\n",
      "         0.36223007+0.14377395j, -0.05972373+0.14217723j,\n",
      "         0.2119247 -0.21588166j,  0.65596633+0.j        ],\n",
      "       [ 0.15989189+0.38067784j,  0.0093479 +0.47232777j,\n",
      "        -0.00192463-0.09755144j,  0.52522997+0.j        ,\n",
      "        -0.52577217-0.20871651j, -0.0118049 -0.02851741j],\n",
      "       [-0.18904342+0.19282133j, -0.43925062+0.19481049j,\n",
      "         0.53191828-0.23592666j, -0.1733464 -0.4126781j ,\n",
      "         0.0059574 +0.29740307j,  0.18348112-0.18732392j]])\n",
      "WARNING:root:d=array([111.32803755+8.23864816e-16j,  75.53815527+1.21072799e-15j,\n",
      "        37.05780377-1.22635386e-15j,  15.61633391+2.37759625e-15j,\n",
      "         5.75930919+1.22090680e-15j,   8.80134108-2.35172427e-15j])\n",
      "WARNING:root:i=array([4, 5, 3, 2, 1, 0], dtype=int64)\n"
     ]
    }
   ],
   "source": [
    "p = 2\n",
    "M = 5\n",
    "x = np.array([6, 1.92705 + 4.58522j, -3.42705 + 3.49541j], dtype=complex)\n",
    "Px, Ax = min_norm(x, p, M)\n",
    "#R = sp.linalg.toeplitz(x)\n",
    "#d, v = np.linalg.eig(R)\n",
    "#print(v)\n",
    "#y = np.sort(d)\n",
    "#i = np.argsort(d)\n",
    "#V = np.empty((p + 1, M - p), dtype=v.dtype)\n",
    "#for j in range(M - p):\n",
    "    #V[:, j] = v[:, i[j]]\n",
    "\n",
    "#a = V @ V.conjugate()"
   ]
  },
  {
   "cell_type": "code",
   "execution_count": 24,
   "metadata": {},
   "outputs": [
    {
     "data": {
      "text/plain": [
       "[<matplotlib.lines.Line2D at 0x207c57a7e00>]"
      ]
     },
     "execution_count": 24,
     "metadata": {},
     "output_type": "execute_result"
    },
    {
     "data": {
      "image/png": "[encoded data removed]",
      "text/plain": [
       "<Figure size 640x480 with 1 Axes>"
      ]
     },
     "metadata": {},
     "output_type": "display_data"
    }
   ],
   "source": [
    "plt.plot(np.abs(Ax.transpose())[1:511])"
   ]
  },
  {
   "cell_type": "code",
   "execution_count": 25,
   "metadata": {},
   "outputs": [
    {
     "data": {
      "text/plain": [
       "[<matplotlib.lines.Line2D at 0x207c43f3c50>]"
      ]
     },
     "execution_count": 25,
     "metadata": {},
     "output_type": "execute_result"
    },
    {
     "data": {
      "image/png": "[encoded data removed]",
      "text/plain": [
       "<Figure size 640x480 with 1 Axes>"
      ]
     },
     "metadata": {},
     "output_type": "display_data"
    }
   ],
   "source": [
    "plt.plot(Px.transpose()[1:511])"
   ]
  }
 ],
 "metadata": {
  "kernelspec": {
   "display_name": ".env.py.312",
   "language": "python",
   "name": "python3"
  },
  "language_info": {
   "codemirror_mode": {
    "name": "ipython",
    "version": 3
   },
   "file_extension": ".py",
   "mimetype": "text/x-python",
   "name": "python",
   "nbconvert_exporter": "python",
   "pygments_lexer": "ipython3",
   "version": "3.12.1"
  }
 },
 "nbformat": 4,
 "nbformat_minor": 2
}
