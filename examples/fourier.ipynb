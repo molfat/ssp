{
 "cells": [
  {
   "cell_type": "code",
   "execution_count": 1,
   "metadata": {},
   "outputs": [],
   "source": [
    "import os, sys\n",
    "dir = os.path.abspath('../ssp')\n",
    "dir = os.path.dirname(dir)\n",
    "sys.path.append(dir)\n",
    "\n",
    "import numpy as np\n",
    "import matplotlib.pyplot as plt\n",
    "\n",
    "from ssp import spectrum"
   ]
  },
  {
   "cell_type": "markdown",
   "metadata": {},
   "source": [
    "# Real Signal\n",
    "\n",
    "A real-valued scalar function of time.\n",
    "\n",
    "## Fourier Transformations\n",
    "\n",
    "Time-domain and frequency-domain representations based on fourier transforms form a dual basis between delta (Dirac) functions and complex exponentials. It may be said that these two special functions are Fourier duals of each other.\n",
    "\n",
    "The duality puts some restrictions on transformations based on signal representation characteristics. For example, if signal is discrete, its frequency spectrum finite.\n",
    "\n",
    "### FT - Fourier Transform\n",
    "\n",
    "$$\n",
    "X_n(j \\omega) = \\int_{-\\infin}^{\\infin} x(n) e^{-j \\omega t}\n",
    "$$\n",
    "\n",
    "### DFT - Discrete Fourier Transform\n",
    "$$\n",
    "X_n(k) = \\sum_{n=0}^{N-1} x(n) e^{-j \\omega_k n}\n",
    "$$\n",
    "\n",
    "### DTFT - Discrete-Time Fourier Transform\n",
    "$$\n",
    "X(j \\omega) = \\sum_{t = -\\infin}^{\\infin} x(n) e^{-j \\omega t}\n",
    "$$\n",
    "\n",
    "### FS - Fourier Series\n",
    "$$\n",
    "X(k) = \\int_{0}^{P} x(n) e^{-j \\omega_k n}\n",
    "$$"
   ]
  }
 ],
 "metadata": {
  "kernelspec": {
   "display_name": ".env.py.312",
   "language": "python",
   "name": "python3"
  },
  "language_info": {
   "codemirror_mode": {
    "name": "ipython",
    "version": 3
   },
   "file_extension": ".py",
   "mimetype": "text/x-python",
   "name": "python",
   "nbconvert_exporter": "python",
   "pygments_lexer": "ipython3",
   "version": "3.12.1"
  }
 },
 "nbformat": 4,
 "nbformat_minor": 2
}
